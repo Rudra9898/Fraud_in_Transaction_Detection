{
 "cells": [
  {
   "cell_type": "code",
   "execution_count": 1,
   "id": "a1490e7a",
   "metadata": {},
   "outputs": [],
   "source": [
    "import warnings\n",
    "warnings.filterwarnings('ignore')"
   ]
  },
  {
   "cell_type": "code",
   "execution_count": 2,
   "id": "bad7c264",
   "metadata": {},
   "outputs": [],
   "source": [
    "import numpy as np\n",
    "import pandas as pd\n",
    "import matplotlib.pyplot as plt\n",
    "import seaborn as sns"
   ]
  },
  {
   "cell_type": "code",
   "execution_count": 3,
   "id": "b1d8eea7",
   "metadata": {},
   "outputs": [
    {
     "data": {
      "text/html": [
       "<div>\n",
       "<style scoped>\n",
       "    .dataframe tbody tr th:only-of-type {\n",
       "        vertical-align: middle;\n",
       "    }\n",
       "\n",
       "    .dataframe tbody tr th {\n",
       "        vertical-align: top;\n",
       "    }\n",
       "\n",
       "    .dataframe thead th {\n",
       "        text-align: right;\n",
       "    }\n",
       "</style>\n",
       "<table border=\"1\" class=\"dataframe\">\n",
       "  <thead>\n",
       "    <tr style=\"text-align: right;\">\n",
       "      <th></th>\n",
       "      <th>step</th>\n",
       "      <th>type</th>\n",
       "      <th>amount</th>\n",
       "      <th>nameOrig</th>\n",
       "      <th>oldbalanceOrg</th>\n",
       "      <th>newbalanceOrig</th>\n",
       "      <th>nameDest</th>\n",
       "      <th>oldbalanceDest</th>\n",
       "      <th>newbalanceDest</th>\n",
       "      <th>isFraud</th>\n",
       "      <th>isFlaggedFraud</th>\n",
       "    </tr>\n",
       "  </thead>\n",
       "  <tbody>\n",
       "    <tr>\n",
       "      <th>0</th>\n",
       "      <td>1</td>\n",
       "      <td>PAYMENT</td>\n",
       "      <td>9839.64</td>\n",
       "      <td>C1231006815</td>\n",
       "      <td>170136.0</td>\n",
       "      <td>160296.36</td>\n",
       "      <td>M1979787155</td>\n",
       "      <td>0.0</td>\n",
       "      <td>0.0</td>\n",
       "      <td>0</td>\n",
       "      <td>0</td>\n",
       "    </tr>\n",
       "    <tr>\n",
       "      <th>1</th>\n",
       "      <td>1</td>\n",
       "      <td>PAYMENT</td>\n",
       "      <td>1864.28</td>\n",
       "      <td>C1666544295</td>\n",
       "      <td>21249.0</td>\n",
       "      <td>19384.72</td>\n",
       "      <td>M2044282225</td>\n",
       "      <td>0.0</td>\n",
       "      <td>0.0</td>\n",
       "      <td>0</td>\n",
       "      <td>0</td>\n",
       "    </tr>\n",
       "    <tr>\n",
       "      <th>2</th>\n",
       "      <td>1</td>\n",
       "      <td>TRANSFER</td>\n",
       "      <td>181.00</td>\n",
       "      <td>C1305486145</td>\n",
       "      <td>181.0</td>\n",
       "      <td>0.00</td>\n",
       "      <td>C553264065</td>\n",
       "      <td>0.0</td>\n",
       "      <td>0.0</td>\n",
       "      <td>1</td>\n",
       "      <td>0</td>\n",
       "    </tr>\n",
       "    <tr>\n",
       "      <th>3</th>\n",
       "      <td>1</td>\n",
       "      <td>CASH_OUT</td>\n",
       "      <td>181.00</td>\n",
       "      <td>C840083671</td>\n",
       "      <td>181.0</td>\n",
       "      <td>0.00</td>\n",
       "      <td>C38997010</td>\n",
       "      <td>21182.0</td>\n",
       "      <td>0.0</td>\n",
       "      <td>1</td>\n",
       "      <td>0</td>\n",
       "    </tr>\n",
       "    <tr>\n",
       "      <th>4</th>\n",
       "      <td>1</td>\n",
       "      <td>PAYMENT</td>\n",
       "      <td>11668.14</td>\n",
       "      <td>C2048537720</td>\n",
       "      <td>41554.0</td>\n",
       "      <td>29885.86</td>\n",
       "      <td>M1230701703</td>\n",
       "      <td>0.0</td>\n",
       "      <td>0.0</td>\n",
       "      <td>0</td>\n",
       "      <td>0</td>\n",
       "    </tr>\n",
       "  </tbody>\n",
       "</table>\n",
       "</div>"
      ],
      "text/plain": [
       "   step      type    amount     nameOrig  oldbalanceOrg  newbalanceOrig  \\\n",
       "0     1   PAYMENT   9839.64  C1231006815       170136.0       160296.36   \n",
       "1     1   PAYMENT   1864.28  C1666544295        21249.0        19384.72   \n",
       "2     1  TRANSFER    181.00  C1305486145          181.0            0.00   \n",
       "3     1  CASH_OUT    181.00   C840083671          181.0            0.00   \n",
       "4     1   PAYMENT  11668.14  C2048537720        41554.0        29885.86   \n",
       "\n",
       "      nameDest  oldbalanceDest  newbalanceDest  isFraud  isFlaggedFraud  \n",
       "0  M1979787155             0.0             0.0        0               0  \n",
       "1  M2044282225             0.0             0.0        0               0  \n",
       "2   C553264065             0.0             0.0        1               0  \n",
       "3    C38997010         21182.0             0.0        1               0  \n",
       "4  M1230701703             0.0             0.0        0               0  "
      ]
     },
     "execution_count": 3,
     "metadata": {},
     "output_type": "execute_result"
    }
   ],
   "source": [
    "df= pd.read_csv('Fraud.csv')\n",
    "df.head()"
   ]
  },
  {
   "cell_type": "code",
   "execution_count": 4,
   "id": "1ba365b2",
   "metadata": {},
   "outputs": [
    {
     "data": {
      "text/plain": [
       "(6362620, 11)"
      ]
     },
     "execution_count": 4,
     "metadata": {},
     "output_type": "execute_result"
    }
   ],
   "source": [
    "df.shape"
   ]
  },
  {
   "cell_type": "code",
   "execution_count": 5,
   "id": "89283702",
   "metadata": {},
   "outputs": [
    {
     "data": {
      "text/plain": [
       "step              0\n",
       "type              0\n",
       "amount            0\n",
       "nameOrig          0\n",
       "oldbalanceOrg     0\n",
       "newbalanceOrig    0\n",
       "nameDest          0\n",
       "oldbalanceDest    0\n",
       "newbalanceDest    0\n",
       "isFraud           0\n",
       "isFlaggedFraud    0\n",
       "dtype: int64"
      ]
     },
     "execution_count": 5,
     "metadata": {},
     "output_type": "execute_result"
    }
   ],
   "source": [
    "df.isnull().sum()"
   ]
  },
  {
   "cell_type": "code",
   "execution_count": 6,
   "id": "b3f32f95",
   "metadata": {},
   "outputs": [
    {
     "name": "stdout",
     "output_type": "stream",
     "text": [
      "<class 'pandas.core.frame.DataFrame'>\n",
      "RangeIndex: 6362620 entries, 0 to 6362619\n",
      "Data columns (total 11 columns):\n",
      " #   Column          Dtype  \n",
      "---  ------          -----  \n",
      " 0   step            int64  \n",
      " 1   type            object \n",
      " 2   amount          float64\n",
      " 3   nameOrig        object \n",
      " 4   oldbalanceOrg   float64\n",
      " 5   newbalanceOrig  float64\n",
      " 6   nameDest        object \n",
      " 7   oldbalanceDest  float64\n",
      " 8   newbalanceDest  float64\n",
      " 9   isFraud         int64  \n",
      " 10  isFlaggedFraud  int64  \n",
      "dtypes: float64(5), int64(3), object(3)\n",
      "memory usage: 534.0+ MB\n"
     ]
    }
   ],
   "source": [
    "df.info()"
   ]
  },
  {
   "cell_type": "code",
   "execution_count": 7,
   "id": "821fec49",
   "metadata": {},
   "outputs": [],
   "source": [
    "# Here for Customer 'C' -->0   and for 'Merchants' -->1\n",
    "def change(name):\n",
    "    if name[0] == 'C':\n",
    "        return 0\n",
    "    elif name[0] == 'M':\n",
    "        return 1\n",
    "    else:\n",
    "        return name\n",
    "\n",
    "df['nameOrig'] = df['nameOrig'].apply(change)\n",
    "df['nameDest'] = df['nameDest'].apply(change)"
   ]
  },
  {
   "cell_type": "code",
   "execution_count": 8,
   "id": "b970efbe",
   "metadata": {
    "scrolled": true
   },
   "outputs": [
    {
     "name": "stdout",
     "output_type": "stream",
     "text": [
      "<class 'pandas.core.frame.DataFrame'>\n",
      "RangeIndex: 6362620 entries, 0 to 6362619\n",
      "Data columns (total 11 columns):\n",
      " #   Column          Dtype  \n",
      "---  ------          -----  \n",
      " 0   step            int64  \n",
      " 1   type            object \n",
      " 2   amount          float64\n",
      " 3   nameOrig        int64  \n",
      " 4   oldbalanceOrg   float64\n",
      " 5   newbalanceOrig  float64\n",
      " 6   nameDest        int64  \n",
      " 7   oldbalanceDest  float64\n",
      " 8   newbalanceDest  float64\n",
      " 9   isFraud         int64  \n",
      " 10  isFlaggedFraud  int64  \n",
      "dtypes: float64(5), int64(5), object(1)\n",
      "memory usage: 534.0+ MB\n"
     ]
    }
   ],
   "source": [
    "df.info()"
   ]
  },
  {
   "cell_type": "markdown",
   "id": "434960f8",
   "metadata": {},
   "source": [
    "### Outlier Treatment"
   ]
  },
  {
   "cell_type": "code",
   "execution_count": 9,
   "id": "e1c65052",
   "metadata": {},
   "outputs": [
    {
     "data": {
      "text/html": [
       "<div>\n",
       "<style scoped>\n",
       "    .dataframe tbody tr th:only-of-type {\n",
       "        vertical-align: middle;\n",
       "    }\n",
       "\n",
       "    .dataframe tbody tr th {\n",
       "        vertical-align: top;\n",
       "    }\n",
       "\n",
       "    .dataframe thead th {\n",
       "        text-align: right;\n",
       "    }\n",
       "</style>\n",
       "<table border=\"1\" class=\"dataframe\">\n",
       "  <thead>\n",
       "    <tr style=\"text-align: right;\">\n",
       "      <th></th>\n",
       "      <th>step</th>\n",
       "      <th>amount</th>\n",
       "      <th>nameOrig</th>\n",
       "      <th>oldbalanceOrg</th>\n",
       "      <th>newbalanceOrig</th>\n",
       "      <th>nameDest</th>\n",
       "      <th>oldbalanceDest</th>\n",
       "      <th>newbalanceDest</th>\n",
       "      <th>isFraud</th>\n",
       "      <th>isFlaggedFraud</th>\n",
       "    </tr>\n",
       "  </thead>\n",
       "  <tbody>\n",
       "    <tr>\n",
       "      <th>count</th>\n",
       "      <td>6.362620e+06</td>\n",
       "      <td>6.362620e+06</td>\n",
       "      <td>6362620.0</td>\n",
       "      <td>6.362620e+06</td>\n",
       "      <td>6.362620e+06</td>\n",
       "      <td>6.362620e+06</td>\n",
       "      <td>6.362620e+06</td>\n",
       "      <td>6.362620e+06</td>\n",
       "      <td>6.362620e+06</td>\n",
       "      <td>6.362620e+06</td>\n",
       "    </tr>\n",
       "    <tr>\n",
       "      <th>mean</th>\n",
       "      <td>2.433972e+02</td>\n",
       "      <td>1.798619e+05</td>\n",
       "      <td>0.0</td>\n",
       "      <td>8.338831e+05</td>\n",
       "      <td>8.551137e+05</td>\n",
       "      <td>3.381461e-01</td>\n",
       "      <td>1.100702e+06</td>\n",
       "      <td>1.224996e+06</td>\n",
       "      <td>1.290820e-03</td>\n",
       "      <td>2.514687e-06</td>\n",
       "    </tr>\n",
       "    <tr>\n",
       "      <th>std</th>\n",
       "      <td>1.423320e+02</td>\n",
       "      <td>6.038582e+05</td>\n",
       "      <td>0.0</td>\n",
       "      <td>2.888243e+06</td>\n",
       "      <td>2.924049e+06</td>\n",
       "      <td>4.730786e-01</td>\n",
       "      <td>3.399180e+06</td>\n",
       "      <td>3.674129e+06</td>\n",
       "      <td>3.590480e-02</td>\n",
       "      <td>1.585775e-03</td>\n",
       "    </tr>\n",
       "    <tr>\n",
       "      <th>min</th>\n",
       "      <td>1.000000e+00</td>\n",
       "      <td>0.000000e+00</td>\n",
       "      <td>0.0</td>\n",
       "      <td>0.000000e+00</td>\n",
       "      <td>0.000000e+00</td>\n",
       "      <td>0.000000e+00</td>\n",
       "      <td>0.000000e+00</td>\n",
       "      <td>0.000000e+00</td>\n",
       "      <td>0.000000e+00</td>\n",
       "      <td>0.000000e+00</td>\n",
       "    </tr>\n",
       "    <tr>\n",
       "      <th>25%</th>\n",
       "      <td>1.560000e+02</td>\n",
       "      <td>1.338957e+04</td>\n",
       "      <td>0.0</td>\n",
       "      <td>0.000000e+00</td>\n",
       "      <td>0.000000e+00</td>\n",
       "      <td>0.000000e+00</td>\n",
       "      <td>0.000000e+00</td>\n",
       "      <td>0.000000e+00</td>\n",
       "      <td>0.000000e+00</td>\n",
       "      <td>0.000000e+00</td>\n",
       "    </tr>\n",
       "    <tr>\n",
       "      <th>50%</th>\n",
       "      <td>2.390000e+02</td>\n",
       "      <td>7.487194e+04</td>\n",
       "      <td>0.0</td>\n",
       "      <td>1.420800e+04</td>\n",
       "      <td>0.000000e+00</td>\n",
       "      <td>0.000000e+00</td>\n",
       "      <td>1.327057e+05</td>\n",
       "      <td>2.146614e+05</td>\n",
       "      <td>0.000000e+00</td>\n",
       "      <td>0.000000e+00</td>\n",
       "    </tr>\n",
       "    <tr>\n",
       "      <th>75%</th>\n",
       "      <td>3.350000e+02</td>\n",
       "      <td>2.087215e+05</td>\n",
       "      <td>0.0</td>\n",
       "      <td>1.073152e+05</td>\n",
       "      <td>1.442584e+05</td>\n",
       "      <td>1.000000e+00</td>\n",
       "      <td>9.430367e+05</td>\n",
       "      <td>1.111909e+06</td>\n",
       "      <td>0.000000e+00</td>\n",
       "      <td>0.000000e+00</td>\n",
       "    </tr>\n",
       "    <tr>\n",
       "      <th>max</th>\n",
       "      <td>7.430000e+02</td>\n",
       "      <td>9.244552e+07</td>\n",
       "      <td>0.0</td>\n",
       "      <td>5.958504e+07</td>\n",
       "      <td>4.958504e+07</td>\n",
       "      <td>1.000000e+00</td>\n",
       "      <td>3.560159e+08</td>\n",
       "      <td>3.561793e+08</td>\n",
       "      <td>1.000000e+00</td>\n",
       "      <td>1.000000e+00</td>\n",
       "    </tr>\n",
       "  </tbody>\n",
       "</table>\n",
       "</div>"
      ],
      "text/plain": [
       "               step        amount   nameOrig  oldbalanceOrg  newbalanceOrig  \\\n",
       "count  6.362620e+06  6.362620e+06  6362620.0   6.362620e+06    6.362620e+06   \n",
       "mean   2.433972e+02  1.798619e+05        0.0   8.338831e+05    8.551137e+05   \n",
       "std    1.423320e+02  6.038582e+05        0.0   2.888243e+06    2.924049e+06   \n",
       "min    1.000000e+00  0.000000e+00        0.0   0.000000e+00    0.000000e+00   \n",
       "25%    1.560000e+02  1.338957e+04        0.0   0.000000e+00    0.000000e+00   \n",
       "50%    2.390000e+02  7.487194e+04        0.0   1.420800e+04    0.000000e+00   \n",
       "75%    3.350000e+02  2.087215e+05        0.0   1.073152e+05    1.442584e+05   \n",
       "max    7.430000e+02  9.244552e+07        0.0   5.958504e+07    4.958504e+07   \n",
       "\n",
       "           nameDest  oldbalanceDest  newbalanceDest       isFraud  \\\n",
       "count  6.362620e+06    6.362620e+06    6.362620e+06  6.362620e+06   \n",
       "mean   3.381461e-01    1.100702e+06    1.224996e+06  1.290820e-03   \n",
       "std    4.730786e-01    3.399180e+06    3.674129e+06  3.590480e-02   \n",
       "min    0.000000e+00    0.000000e+00    0.000000e+00  0.000000e+00   \n",
       "25%    0.000000e+00    0.000000e+00    0.000000e+00  0.000000e+00   \n",
       "50%    0.000000e+00    1.327057e+05    2.146614e+05  0.000000e+00   \n",
       "75%    1.000000e+00    9.430367e+05    1.111909e+06  0.000000e+00   \n",
       "max    1.000000e+00    3.560159e+08    3.561793e+08  1.000000e+00   \n",
       "\n",
       "       isFlaggedFraud  \n",
       "count    6.362620e+06  \n",
       "mean     2.514687e-06  \n",
       "std      1.585775e-03  \n",
       "min      0.000000e+00  \n",
       "25%      0.000000e+00  \n",
       "50%      0.000000e+00  \n",
       "75%      0.000000e+00  \n",
       "max      1.000000e+00  "
      ]
     },
     "execution_count": 9,
     "metadata": {},
     "output_type": "execute_result"
    }
   ],
   "source": [
    "df.describe()"
   ]
  },
  {
   "cell_type": "code",
   "execution_count": 10,
   "id": "e434325c",
   "metadata": {
    "scrolled": true
   },
   "outputs": [],
   "source": [
    "lower_limit=df.oldbalanceOrg.mean()-df.oldbalanceOrg.std()\n",
    "upper_limit=df.oldbalanceOrg.mean()+df.oldbalanceOrg.std()\n",
    "\n",
    "lower_limit1=df.newbalanceOrig.mean()-df.newbalanceOrig.std()\n",
    "upper_limit1=df.newbalanceOrig.mean()+df.newbalanceOrig.std()\n",
    "\n",
    "lower_limit2=df.oldbalanceDest.mean()-df.oldbalanceDest.std()\n",
    "upper_limit2=df.oldbalanceDest.mean()+df.oldbalanceDest.std()\n",
    "\n",
    "lower_limit3=df.newbalanceDest.mean()-df.newbalanceDest.std()\n",
    "upper_limit3=df.newbalanceDest.mean()+df.newbalanceDest.std()"
   ]
  },
  {
   "cell_type": "code",
   "execution_count": 11,
   "id": "ea211f67",
   "metadata": {},
   "outputs": [],
   "source": [
    "df1=df[((df.oldbalanceOrg>lower_limit) & (df.oldbalanceOrg<upper_limit)) & ((df.newbalanceOrig>lower_limit1) & (df.newbalanceOrig<upper_limit1)) & ((df.oldbalanceDest>lower_limit2) & (df.oldbalanceDest<upper_limit2)) & ((df.newbalanceDest>lower_limit3) & (df.newbalanceDest<upper_limit3))]"
   ]
  },
  {
   "cell_type": "code",
   "execution_count": 12,
   "id": "9b52b7e7",
   "metadata": {
    "scrolled": true
   },
   "outputs": [
    {
     "data": {
      "text/html": [
       "<div>\n",
       "<style scoped>\n",
       "    .dataframe tbody tr th:only-of-type {\n",
       "        vertical-align: middle;\n",
       "    }\n",
       "\n",
       "    .dataframe tbody tr th {\n",
       "        vertical-align: top;\n",
       "    }\n",
       "\n",
       "    .dataframe thead th {\n",
       "        text-align: right;\n",
       "    }\n",
       "</style>\n",
       "<table border=\"1\" class=\"dataframe\">\n",
       "  <thead>\n",
       "    <tr style=\"text-align: right;\">\n",
       "      <th></th>\n",
       "      <th>step</th>\n",
       "      <th>amount</th>\n",
       "      <th>nameOrig</th>\n",
       "      <th>oldbalanceOrg</th>\n",
       "      <th>newbalanceOrig</th>\n",
       "      <th>nameDest</th>\n",
       "      <th>oldbalanceDest</th>\n",
       "      <th>newbalanceDest</th>\n",
       "      <th>isFraud</th>\n",
       "      <th>isFlaggedFraud</th>\n",
       "    </tr>\n",
       "  </thead>\n",
       "  <tbody>\n",
       "    <tr>\n",
       "      <th>count</th>\n",
       "      <td>5.539716e+06</td>\n",
       "      <td>5.539716e+06</td>\n",
       "      <td>5539716.0</td>\n",
       "      <td>5.539716e+06</td>\n",
       "      <td>5.539716e+06</td>\n",
       "      <td>5.539716e+06</td>\n",
       "      <td>5.539716e+06</td>\n",
       "      <td>5.539716e+06</td>\n",
       "      <td>5.539716e+06</td>\n",
       "      <td>5.539716e+06</td>\n",
       "    </tr>\n",
       "    <tr>\n",
       "      <th>mean</th>\n",
       "      <td>2.428429e+02</td>\n",
       "      <td>1.417757e+05</td>\n",
       "      <td>0.0</td>\n",
       "      <td>1.543592e+05</td>\n",
       "      <td>1.651501e+05</td>\n",
       "      <td>3.883179e-01</td>\n",
       "      <td>4.984635e+05</td>\n",
       "      <td>5.967578e+05</td>\n",
       "      <td>1.260895e-03</td>\n",
       "      <td>1.263603e-06</td>\n",
       "    </tr>\n",
       "    <tr>\n",
       "      <th>std</th>\n",
       "      <td>1.424225e+02</td>\n",
       "      <td>2.407118e+05</td>\n",
       "      <td>0.0</td>\n",
       "      <td>4.804491e+05</td>\n",
       "      <td>5.123832e+05</td>\n",
       "      <td>4.873676e-01</td>\n",
       "      <td>8.741551e+05</td>\n",
       "      <td>9.616435e+05</td>\n",
       "      <td>3.548669e-02</td>\n",
       "      <td>1.124100e-03</td>\n",
       "    </tr>\n",
       "    <tr>\n",
       "      <th>min</th>\n",
       "      <td>1.000000e+00</td>\n",
       "      <td>0.000000e+00</td>\n",
       "      <td>0.0</td>\n",
       "      <td>0.000000e+00</td>\n",
       "      <td>0.000000e+00</td>\n",
       "      <td>0.000000e+00</td>\n",
       "      <td>0.000000e+00</td>\n",
       "      <td>0.000000e+00</td>\n",
       "      <td>0.000000e+00</td>\n",
       "      <td>0.000000e+00</td>\n",
       "    </tr>\n",
       "    <tr>\n",
       "      <th>25%</th>\n",
       "      <td>1.550000e+02</td>\n",
       "      <td>1.135038e+04</td>\n",
       "      <td>0.0</td>\n",
       "      <td>0.000000e+00</td>\n",
       "      <td>0.000000e+00</td>\n",
       "      <td>0.000000e+00</td>\n",
       "      <td>0.000000e+00</td>\n",
       "      <td>0.000000e+00</td>\n",
       "      <td>0.000000e+00</td>\n",
       "      <td>0.000000e+00</td>\n",
       "    </tr>\n",
       "    <tr>\n",
       "      <th>50%</th>\n",
       "      <td>2.370000e+02</td>\n",
       "      <td>5.692555e+04</td>\n",
       "      <td>0.0</td>\n",
       "      <td>1.090300e+04</td>\n",
       "      <td>0.000000e+00</td>\n",
       "      <td>0.000000e+00</td>\n",
       "      <td>1.488641e+04</td>\n",
       "      <td>1.187715e+05</td>\n",
       "      <td>0.000000e+00</td>\n",
       "      <td>0.000000e+00</td>\n",
       "    </tr>\n",
       "    <tr>\n",
       "      <th>75%</th>\n",
       "      <td>3.340000e+02</td>\n",
       "      <td>1.932944e+05</td>\n",
       "      <td>0.0</td>\n",
       "      <td>6.564645e+04</td>\n",
       "      <td>7.272540e+04</td>\n",
       "      <td>1.000000e+00</td>\n",
       "      <td>6.078611e+05</td>\n",
       "      <td>7.894875e+05</td>\n",
       "      <td>0.000000e+00</td>\n",
       "      <td>0.000000e+00</td>\n",
       "    </tr>\n",
       "    <tr>\n",
       "      <th>max</th>\n",
       "      <td>7.430000e+02</td>\n",
       "      <td>4.898524e+06</td>\n",
       "      <td>0.0</td>\n",
       "      <td>3.722093e+06</td>\n",
       "      <td>3.779161e+06</td>\n",
       "      <td>1.000000e+00</td>\n",
       "      <td>4.499873e+06</td>\n",
       "      <td>4.899091e+06</td>\n",
       "      <td>1.000000e+00</td>\n",
       "      <td>1.000000e+00</td>\n",
       "    </tr>\n",
       "  </tbody>\n",
       "</table>\n",
       "</div>"
      ],
      "text/plain": [
       "               step        amount   nameOrig  oldbalanceOrg  newbalanceOrig  \\\n",
       "count  5.539716e+06  5.539716e+06  5539716.0   5.539716e+06    5.539716e+06   \n",
       "mean   2.428429e+02  1.417757e+05        0.0   1.543592e+05    1.651501e+05   \n",
       "std    1.424225e+02  2.407118e+05        0.0   4.804491e+05    5.123832e+05   \n",
       "min    1.000000e+00  0.000000e+00        0.0   0.000000e+00    0.000000e+00   \n",
       "25%    1.550000e+02  1.135038e+04        0.0   0.000000e+00    0.000000e+00   \n",
       "50%    2.370000e+02  5.692555e+04        0.0   1.090300e+04    0.000000e+00   \n",
       "75%    3.340000e+02  1.932944e+05        0.0   6.564645e+04    7.272540e+04   \n",
       "max    7.430000e+02  4.898524e+06        0.0   3.722093e+06    3.779161e+06   \n",
       "\n",
       "           nameDest  oldbalanceDest  newbalanceDest       isFraud  \\\n",
       "count  5.539716e+06    5.539716e+06    5.539716e+06  5.539716e+06   \n",
       "mean   3.883179e-01    4.984635e+05    5.967578e+05  1.260895e-03   \n",
       "std    4.873676e-01    8.741551e+05    9.616435e+05  3.548669e-02   \n",
       "min    0.000000e+00    0.000000e+00    0.000000e+00  0.000000e+00   \n",
       "25%    0.000000e+00    0.000000e+00    0.000000e+00  0.000000e+00   \n",
       "50%    0.000000e+00    1.488641e+04    1.187715e+05  0.000000e+00   \n",
       "75%    1.000000e+00    6.078611e+05    7.894875e+05  0.000000e+00   \n",
       "max    1.000000e+00    4.499873e+06    4.899091e+06  1.000000e+00   \n",
       "\n",
       "       isFlaggedFraud  \n",
       "count    5.539716e+06  \n",
       "mean     1.263603e-06  \n",
       "std      1.124100e-03  \n",
       "min      0.000000e+00  \n",
       "25%      0.000000e+00  \n",
       "50%      0.000000e+00  \n",
       "75%      0.000000e+00  \n",
       "max      1.000000e+00  "
      ]
     },
     "execution_count": 12,
     "metadata": {},
     "output_type": "execute_result"
    }
   ],
   "source": [
    "df1.describe()"
   ]
  },
  {
   "cell_type": "code",
   "execution_count": 13,
   "id": "3d35f0ac",
   "metadata": {},
   "outputs": [
    {
     "data": {
      "text/plain": [
       "(5539716, 11)"
      ]
     },
     "execution_count": 13,
     "metadata": {},
     "output_type": "execute_result"
    }
   ],
   "source": [
    "df1.shape"
   ]
  },
  {
   "cell_type": "markdown",
   "id": "e64250f7",
   "metadata": {},
   "source": [
    "### Treat multi-collinerity issue"
   ]
  },
  {
   "cell_type": "code",
   "execution_count": 14,
   "id": "2de93810",
   "metadata": {},
   "outputs": [
    {
     "data": {
      "text/plain": [
       "<AxesSubplot:>"
      ]
     },
     "execution_count": 14,
     "metadata": {},
     "output_type": "execute_result"
    },
    {
     "data": {
      "image/png": "[encoded data removed]",
      "text/plain": [
       "<Figure size 432x288 with 2 Axes>"
      ]
     },
     "metadata": {
      "needs_background": "light"
     },
     "output_type": "display_data"
    }
   ],
   "source": [
    "sns.heatmap(df1.corr())"
   ]
  },
  {
   "cell_type": "code",
   "execution_count": 15,
   "id": "df227675",
   "metadata": {},
   "outputs": [
    {
     "data": {
      "text/html": [
       "<div>\n",
       "<style scoped>\n",
       "    .dataframe tbody tr th:only-of-type {\n",
       "        vertical-align: middle;\n",
       "    }\n",
       "\n",
       "    .dataframe tbody tr th {\n",
       "        vertical-align: top;\n",
       "    }\n",
       "\n",
       "    .dataframe thead th {\n",
       "        text-align: right;\n",
       "    }\n",
       "</style>\n",
       "<table border=\"1\" class=\"dataframe\">\n",
       "  <thead>\n",
       "    <tr style=\"text-align: right;\">\n",
       "      <th></th>\n",
       "      <th>step</th>\n",
       "      <th>type</th>\n",
       "      <th>amount</th>\n",
       "      <th>nameOrig</th>\n",
       "      <th>newbalanceOrig</th>\n",
       "      <th>nameDest</th>\n",
       "      <th>newbalanceDest</th>\n",
       "      <th>isFraud</th>\n",
       "      <th>isFlaggedFraud</th>\n",
       "    </tr>\n",
       "  </thead>\n",
       "  <tbody>\n",
       "    <tr>\n",
       "      <th>0</th>\n",
       "      <td>1</td>\n",
       "      <td>PAYMENT</td>\n",
       "      <td>9839.64</td>\n",
       "      <td>0</td>\n",
       "      <td>160296.36</td>\n",
       "      <td>1</td>\n",
       "      <td>0.0</td>\n",
       "      <td>0</td>\n",
       "      <td>0</td>\n",
       "    </tr>\n",
       "    <tr>\n",
       "      <th>1</th>\n",
       "      <td>1</td>\n",
       "      <td>PAYMENT</td>\n",
       "      <td>1864.28</td>\n",
       "      <td>0</td>\n",
       "      <td>19384.72</td>\n",
       "      <td>1</td>\n",
       "      <td>0.0</td>\n",
       "      <td>0</td>\n",
       "      <td>0</td>\n",
       "    </tr>\n",
       "    <tr>\n",
       "      <th>2</th>\n",
       "      <td>1</td>\n",
       "      <td>TRANSFER</td>\n",
       "      <td>181.00</td>\n",
       "      <td>0</td>\n",
       "      <td>0.00</td>\n",
       "      <td>0</td>\n",
       "      <td>0.0</td>\n",
       "      <td>1</td>\n",
       "      <td>0</td>\n",
       "    </tr>\n",
       "    <tr>\n",
       "      <th>3</th>\n",
       "      <td>1</td>\n",
       "      <td>CASH_OUT</td>\n",
       "      <td>181.00</td>\n",
       "      <td>0</td>\n",
       "      <td>0.00</td>\n",
       "      <td>0</td>\n",
       "      <td>0.0</td>\n",
       "      <td>1</td>\n",
       "      <td>0</td>\n",
       "    </tr>\n",
       "    <tr>\n",
       "      <th>4</th>\n",
       "      <td>1</td>\n",
       "      <td>PAYMENT</td>\n",
       "      <td>11668.14</td>\n",
       "      <td>0</td>\n",
       "      <td>29885.86</td>\n",
       "      <td>1</td>\n",
       "      <td>0.0</td>\n",
       "      <td>0</td>\n",
       "      <td>0</td>\n",
       "    </tr>\n",
       "  </tbody>\n",
       "</table>\n",
       "</div>"
      ],
      "text/plain": [
       "   step      type    amount  nameOrig  newbalanceOrig  nameDest  \\\n",
       "0     1   PAYMENT   9839.64         0       160296.36         1   \n",
       "1     1   PAYMENT   1864.28         0        19384.72         1   \n",
       "2     1  TRANSFER    181.00         0            0.00         0   \n",
       "3     1  CASH_OUT    181.00         0            0.00         0   \n",
       "4     1   PAYMENT  11668.14         0        29885.86         1   \n",
       "\n",
       "   newbalanceDest  isFraud  isFlaggedFraud  \n",
       "0             0.0        0               0  \n",
       "1             0.0        0               0  \n",
       "2             0.0        1               0  \n",
       "3             0.0        1               0  \n",
       "4             0.0        0               0  "
      ]
     },
     "execution_count": 15,
     "metadata": {},
     "output_type": "execute_result"
    }
   ],
   "source": [
    "# From the above it is found for moulti-collinerity so i have to drop 'oldbalanceOrg'and'oldbalanceDest'\n",
    "df1.drop(['oldbalanceOrg','oldbalanceDest'],axis='columns',inplace=True)\n",
    "df1.head()"
   ]
  },
  {
   "cell_type": "code",
   "execution_count": 16,
   "id": "c80eb75b",
   "metadata": {},
   "outputs": [],
   "source": [
    "dummy = pd.get_dummies(df1.type,drop_first=True)\n",
    "df2 =pd.concat([df1,dummy],axis=1)"
   ]
  },
  {
   "cell_type": "code",
   "execution_count": 17,
   "id": "8940a012",
   "metadata": {},
   "outputs": [],
   "source": [
    "df2.drop(['type'],axis=1,inplace=True)"
   ]
  },
  {
   "cell_type": "code",
   "execution_count": 18,
   "id": "7b13b33d",
   "metadata": {},
   "outputs": [
    {
     "data": {
      "text/html": [
       "<div>\n",
       "<style scoped>\n",
       "    .dataframe tbody tr th:only-of-type {\n",
       "        vertical-align: middle;\n",
       "    }\n",
       "\n",
       "    .dataframe tbody tr th {\n",
       "        vertical-align: top;\n",
       "    }\n",
       "\n",
       "    .dataframe thead th {\n",
       "        text-align: right;\n",
       "    }\n",
       "</style>\n",
       "<table border=\"1\" class=\"dataframe\">\n",
       "  <thead>\n",
       "    <tr style=\"text-align: right;\">\n",
       "      <th></th>\n",
       "      <th>step</th>\n",
       "      <th>amount</th>\n",
       "      <th>nameOrig</th>\n",
       "      <th>newbalanceOrig</th>\n",
       "      <th>nameDest</th>\n",
       "      <th>newbalanceDest</th>\n",
       "      <th>isFraud</th>\n",
       "      <th>isFlaggedFraud</th>\n",
       "      <th>CASH_OUT</th>\n",
       "      <th>DEBIT</th>\n",
       "      <th>PAYMENT</th>\n",
       "      <th>TRANSFER</th>\n",
       "    </tr>\n",
       "  </thead>\n",
       "  <tbody>\n",
       "    <tr>\n",
       "      <th>0</th>\n",
       "      <td>1</td>\n",
       "      <td>9839.64</td>\n",
       "      <td>0</td>\n",
       "      <td>160296.36</td>\n",
       "      <td>1</td>\n",
       "      <td>0.0</td>\n",
       "      <td>0</td>\n",
       "      <td>0</td>\n",
       "      <td>0</td>\n",
       "      <td>0</td>\n",
       "      <td>1</td>\n",
       "      <td>0</td>\n",
       "    </tr>\n",
       "    <tr>\n",
       "      <th>1</th>\n",
       "      <td>1</td>\n",
       "      <td>1864.28</td>\n",
       "      <td>0</td>\n",
       "      <td>19384.72</td>\n",
       "      <td>1</td>\n",
       "      <td>0.0</td>\n",
       "      <td>0</td>\n",
       "      <td>0</td>\n",
       "      <td>0</td>\n",
       "      <td>0</td>\n",
       "      <td>1</td>\n",
       "      <td>0</td>\n",
       "    </tr>\n",
       "    <tr>\n",
       "      <th>2</th>\n",
       "      <td>1</td>\n",
       "      <td>181.00</td>\n",
       "      <td>0</td>\n",
       "      <td>0.00</td>\n",
       "      <td>0</td>\n",
       "      <td>0.0</td>\n",
       "      <td>1</td>\n",
       "      <td>0</td>\n",
       "      <td>0</td>\n",
       "      <td>0</td>\n",
       "      <td>0</td>\n",
       "      <td>1</td>\n",
       "    </tr>\n",
       "    <tr>\n",
       "      <th>3</th>\n",
       "      <td>1</td>\n",
       "      <td>181.00</td>\n",
       "      <td>0</td>\n",
       "      <td>0.00</td>\n",
       "      <td>0</td>\n",
       "      <td>0.0</td>\n",
       "      <td>1</td>\n",
       "      <td>0</td>\n",
       "      <td>1</td>\n",
       "      <td>0</td>\n",
       "      <td>0</td>\n",
       "      <td>0</td>\n",
       "    </tr>\n",
       "    <tr>\n",
       "      <th>4</th>\n",
       "      <td>1</td>\n",
       "      <td>11668.14</td>\n",
       "      <td>0</td>\n",
       "      <td>29885.86</td>\n",
       "      <td>1</td>\n",
       "      <td>0.0</td>\n",
       "      <td>0</td>\n",
       "      <td>0</td>\n",
       "      <td>0</td>\n",
       "      <td>0</td>\n",
       "      <td>1</td>\n",
       "      <td>0</td>\n",
       "    </tr>\n",
       "  </tbody>\n",
       "</table>\n",
       "</div>"
      ],
      "text/plain": [
       "   step    amount  nameOrig  newbalanceOrig  nameDest  newbalanceDest  \\\n",
       "0     1   9839.64         0       160296.36         1             0.0   \n",
       "1     1   1864.28         0        19384.72         1             0.0   \n",
       "2     1    181.00         0            0.00         0             0.0   \n",
       "3     1    181.00         0            0.00         0             0.0   \n",
       "4     1  11668.14         0        29885.86         1             0.0   \n",
       "\n",
       "   isFraud  isFlaggedFraud  CASH_OUT  DEBIT  PAYMENT  TRANSFER  \n",
       "0        0               0         0      0        1         0  \n",
       "1        0               0         0      0        1         0  \n",
       "2        1               0         0      0        0         1  \n",
       "3        1               0         1      0        0         0  \n",
       "4        0               0         0      0        1         0  "
      ]
     },
     "execution_count": 18,
     "metadata": {},
     "output_type": "execute_result"
    }
   ],
   "source": [
    "df2.head()"
   ]
  },
  {
   "cell_type": "code",
   "execution_count": 19,
   "id": "2fc0b7f7",
   "metadata": {},
   "outputs": [],
   "source": [
    "X=df2.drop(['isFraud'],axis=1)\n",
    "y=df2.isFraud"
   ]
  },
  {
   "cell_type": "code",
   "execution_count": 20,
   "id": "c8c2de2e",
   "metadata": {},
   "outputs": [],
   "source": [
    "from sklearn.model_selection import train_test_split\n",
    "X_train, X_test, y_train, y_test = train_test_split(X, y, test_size=0.75, random_state=42)"
   ]
  },
  {
   "cell_type": "code",
   "execution_count": 21,
   "id": "16f76e8d",
   "metadata": {},
   "outputs": [],
   "source": [
    "# from sklearn.svm import SVC\n",
    "# s=SVC()\n",
    "# s.fit(X_train,y_train)\n",
    "# s.score(X_train,y_train)                         #Taking too much time for large Dataset"
   ]
  },
  {
   "cell_type": "code",
   "execution_count": 23,
   "id": "1bce4b12",
   "metadata": {},
   "outputs": [
    {
     "data": {
      "text/plain": [
       "LinearSVC()"
      ]
     },
     "execution_count": 23,
     "metadata": {},
     "output_type": "execute_result"
    }
   ],
   "source": [
    "from sklearn.svm import LinearSVC\n",
    "ls = LinearSVC()\n",
    "ls.fit(X_train,y_train)\n"
   ]
  },
  {
   "cell_type": "code",
   "execution_count": 25,
   "id": "89c021bf",
   "metadata": {},
   "outputs": [
    {
     "data": {
      "text/plain": [
       "0.9987400076104984"
      ]
     },
     "execution_count": 25,
     "metadata": {},
     "output_type": "execute_result"
    }
   ],
   "source": [
    "ls.score(X_test,y_test)"
   ]
  },
  {
   "cell_type": "markdown",
   "id": "a3f22528",
   "metadata": {},
   "source": [
    "## Here after Cleaning and Removing Outlier and Removing Multi-collinearity , Remains variables are used in model Training ."
   ]
  },
  {
   "cell_type": "markdown",
   "id": "6f3717dc",
   "metadata": {},
   "source": [
    "### Key Variables are : \n",
    "step, amount, nameOrig, newbalanceOrig, nameDest, newbalanceDest, isFlaggedFraud, CASH_OUT, DEBIT, PAYMENT, TRANSFER"
   ]
  },
  {
   "cell_type": "markdown",
   "id": "f9058c05",
   "metadata": {},
   "source": [
    "### What kind of prevention should be adopted while company update its infrastructure?\n",
    "\n",
    "#### Smart Detection:\n",
    "1. Use computer programs to spot unusual activity.\n",
    "2. Watch for strange things happening right now.\n",
    "3. Learn how people usually act online.\n",
    "\n",
    "#### Strong Security:\n",
    "1. Use multiple ways to prove who you are.\n",
    "2. Check for weaknesses in your systems.\n",
    "3. Keep your communication safe.\n",
    "4. Teach your team about safety online.\n",
    "\n",
    "#### Clear Rules:\n",
    "1. Have clear rules about what to do when fraud happens.\n",
    "2. Find out what could go wrong.\n",
    "3. Work with banks to stop fraud.\n",
    "\n",
    "#### Protect Data:\n",
    "1. Keep important information safe.\n",
    "2. Follow data privacy laws.\n",
    "3. Hide sensitive information.\n",
    "\n",
    "#### Always Learning:\n",
    "1. Keep checking how well your fraud protection works.\n",
    "2. Learn about new types of fraud.\n",
    "3. Listen to feedback from customers and employees."
   ]
  },
  {
   "cell_type": "markdown",
   "id": "8d2d869d",
   "metadata": {},
   "source": [
    "#### Assuming these actions have been implemented, how would you determine if they work?\n",
    "1. **Check Fraud Levels:**\n",
    "   - See how many times fraud happened and how much money was lost.\n",
    "   - Understand the different types of fraud.\n",
    "\n",
    "2. **Avoid False Alarms:**\n",
    "   - Make sure good transactions aren't mistaken for bad ones.\n",
    "   - Keep customers happy by avoiding unnecessary checks.\n",
    "\n",
    "3. **Listen to Customers:**\n",
    "   - Ask customers how they feel about fraud protection.\n",
    "   - Use surveys and feedback to improve.\n",
    "\n",
    "4. **System Health Check:**\n",
    "   - See how fast the system can detect fraud.\n",
    "   - Look for problems in the system.\n",
    "\n",
    "5. **Train Your Team:**\n",
    "   - Test employees on security knowledge.\n",
    "   - Track mistakes made by employees.\n",
    "\n",
    "6. **Partner Security Check:**\n",
    "   - Make sure your partners are safe too.\n",
    "   - Review their security practices.\n",
    "\n",
    "7. **Follow the Rules:**\n",
    "   - Obey data privacy and security laws.\n",
    "   - Regularly check if you're following the rules.\n"
   ]
  },
  {
   "cell_type": "markdown",
   "id": "a8f85b9e",
   "metadata": {},
   "source": [
    "### Save model:"
   ]
  },
  {
   "cell_type": "code",
   "execution_count": 27,
   "id": "275b53ca",
   "metadata": {},
   "outputs": [
    {
     "data": {
      "text/plain": [
       "['model.pkl']"
      ]
     },
     "execution_count": 27,
     "metadata": {},
     "output_type": "execute_result"
    }
   ],
   "source": [
    "import joblib\n",
    "joblib.dump(ls, 'model.pkl')"
   ]
  },
  {
   "cell_type": "code",
   "execution_count": 28,
   "id": "09c8860f",
   "metadata": {},
   "outputs": [],
   "source": [
    "loaded_model = joblib.load('model.pkl')"
   ]
  },
  {
   "cell_type": "code",
   "execution_count": null,
   "id": "135228fe",
   "metadata": {},
   "outputs": [],
   "source": []
  }
 ],
 "metadata": {
  "kernelspec": {
   "display_name": "Python 3 (ipykernel)",
   "language": "python",
   "name": "python3"
  },
  "language_info": {
   "codemirror_mode": {
    "name": "ipython",
    "version": 3
   },
   "file_extension": ".py",
   "mimetype": "text/x-python",
   "name": "python",
   "nbconvert_exporter": "python",
   "pygments_lexer": "ipython3",
   "version": "3.9.12"
  }
 },
 "nbformat": 4,
 "nbformat_minor": 5
}
